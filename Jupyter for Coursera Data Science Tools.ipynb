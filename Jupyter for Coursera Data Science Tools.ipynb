{
    "cells": [
        {
            "cell_type": "markdown",
            "metadata": {
                "collapsed": true
            },
            "source": "# My Jupyter Notebook on IBM Watson Studio\n"
        },
        {
            "cell_type": "markdown",
            "metadata": {},
            "source": "__David Gress__\n\nApplication Developer to Data Scientist"
        },
        {
            "cell_type": "markdown",
            "metadata": {},
            "source": "_I am interested in Data Science because it opens possibilities for my career and uncovers issues in business and issues that affect peoples lives, like the effects of climate change. It is also opens avenues for me to leverage my computer programming and database oriented skills that are different from how they have previously been used. It is alos a way for me to resurrect my math skills and work problems using cool new libraries and tools._"
        },
        {
            "cell_type": "markdown",
            "metadata": {},
            "source": "### The following code converts a list of name to uppercase"
        },
        {
            "cell_type": "code",
            "execution_count": 1,
            "metadata": {},
            "outputs": [
                {
                    "name": "stdout",
                    "output_type": "stream",
                    "text": "['ADAM', 'ANNE', 'BARRY', 'BRIANNE', 'CHARLIE', 'CASSANDRA', 'DAVID', 'DANA']\n"
                }
            ],
            "source": "names_list = ['Adam','Anne','Barry','Brianne','Charlie','Cassandra','David','Dana']\n\n#Converts names to uppercase\nuppercase_names = (name.upper() for name in names_list)\nprint(list(uppercase_names))"
        },
        {
            "cell_type": "markdown",
            "metadata": {},
            "source": "### Table\n| Languages  | Years Used | Profeciency |\n| ---------- |:----------:| -----------:|\n| Java       | 15         | 9           |\n| Python     | 1          | 4           |\n| Delphi     | 10         | 8           |\n| C#         | 1          | 4           |\n| Javascript | 3          | 5           |\n| JSF/ADF    | 10         | 8           |\n\n\n---\nUsed dash to make horizontal rule above this line\n\n### Code highlighting\n`uppercase_names = (name.upper() for name in names_list)\nprint(list(uppercase_names))`\n\nUse asterisk for horizontal rule below\n***\nUnordered list\n* One\n* Two\n* Three\n"
        },
        {
            "cell_type": "code",
            "execution_count": null,
            "metadata": {},
            "outputs": [],
            "source": ""
        }
    ],
    "metadata": {
        "kernelspec": {
            "display_name": "Python 3.6",
            "language": "python",
            "name": "python3"
        },
        "language_info": {
            "codemirror_mode": {
                "name": "ipython",
                "version": 3
            },
            "file_extension": ".py",
            "mimetype": "text/x-python",
            "name": "python",
            "nbconvert_exporter": "python",
            "pygments_lexer": "ipython3",
            "version": "3.6.9"
        }
    },
    "nbformat": 4,
    "nbformat_minor": 1
}